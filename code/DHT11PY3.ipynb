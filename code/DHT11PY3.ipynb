{
 "cells": [
  {
   "cell_type": "code",
   "execution_count": null,
   "metadata": {},
   "outputs": [],
   "source": [
    "!pip install pykernel"
   ]
  },
  {
   "cell_type": "code",
   "execution_count": null,
   "metadata": {},
   "outputs": [],
   "source": [
    "!pip install pyserial"
   ]
  },
  {
   "cell_type": "code",
   "execution_count": null,
   "metadata": {},
   "outputs": [],
   "source": [
    "conda activate arduino"
   ]
  },
  {
   "cell_type": "code",
   "execution_count": null,
   "metadata": {},
   "outputs": [],
   "source": [
    "import serial\n",
    "import webbrowser\n",
    "\n",
    "ser = serial.Serial('COM6', 9600)\n",
    "\n",
    "k = ser.readline().decode()\n",
    "s =  int(k)\n",
    "\n",
    "if (s > 20 and s < 29):\n",
    "    print(\"Suhu Normal!\")\n",
    "    print(s)\n",
    "    webbrowser.open('https://music.youtube.com/watch?v=xQ1aUU5SxNo&list=RDAMVM9PQQ4LYf60M')\n",
    "\n",
    "elif s >= 29:\n",
    "    print(\"Suhu yang Panas!\")\n",
    "    print(s)\n",
    "    webbrowser.open('https://music.youtube.com/watch?v=qQ_W1w9v-2Y&list=RDAMVMqQ_W1w9v-2Y')\n"
   ]
  }
 ],
 "metadata": {
  "language_info": {
   "name": "python"
  },
  "orig_nbformat": 4
 },
 "nbformat": 4,
 "nbformat_minor": 2
}
